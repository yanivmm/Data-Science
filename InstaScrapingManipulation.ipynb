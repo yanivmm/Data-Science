{
 "cells": [
  {
   "cell_type": "code",
   "execution_count": 4,
   "metadata": {},
   "outputs": [],
   "source": [
    "\"\"\"\n",
    "This script is totally based on corona_exportXL_manipulated in Corona Scripts.\n",
    "\n",
    "\"\"\"\n",
    "\n",
    "# imports\n",
    "import pandas as pd\n",
    "from openpyxl import load_workbook\n",
    "\n",
    "# import EXCEL file all sheets\n",
    "path = r'C:\\Users\\97250\\Desktop\\studied\\R ,python\\InstaScraping.xlsx'\n",
    "x = pd.read_excel(path, sheet_name=None)\n",
    "\n",
    "# Unified XL sheets only\n",
    "x_indeces = [i for i in x]\n",
    "\n",
    "# initialize First sheet\n",
    "first_sheet = x_indeces[0]\n",
    "\n",
    "path = r'C:\\Users\\97250\\Desktop\\studied\\R ,python\\InstaScraping_afterManipulation.xlsx'\n",
    "\n",
    "# initialize file\n",
    "x[first_sheet].to_excel(path,sheet_name = first_sheet)\n",
    "\n",
    "book = load_workbook(path)\n",
    "\n"
   ]
  },
  {
   "cell_type": "code",
   "execution_count": 5,
   "metadata": {},
   "outputs": [],
   "source": [
    "for i in x_indeces:\n",
    "\n",
    "    x[i].columns = 'person\tfollowing\tfollowers\tnumPosts'.split('\t')\n",
    "\n",
    "    x[i].set_index('person',inplace=True)\n",
    "    \n",
    "    #export to excel as additional sheets:\n",
    "    writer = pd.ExcelWriter(path, engine = 'openpyxl')\n",
    "    writer.book = book\n",
    "    x[i].to_excel(writer ,sheet_name = i) #the sheet name will be the date\n",
    "\n",
    "    \n",
    "\n",
    "writer.save()\n",
    "writer.close()"
   ]
  }
 ],
 "metadata": {
  "kernelspec": {
   "display_name": "Python 3",
   "language": "python",
   "name": "python3"
  },
  "language_info": {
   "codemirror_mode": {
    "name": "ipython",
    "version": 3
   },
   "file_extension": ".py",
   "mimetype": "text/x-python",
   "name": "python",
   "nbconvert_exporter": "python",
   "pygments_lexer": "ipython3",
   "version": "3.8.3"
  }
 },
 "nbformat": 4,
 "nbformat_minor": 4
}
