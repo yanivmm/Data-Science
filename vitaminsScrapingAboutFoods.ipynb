{
 "cells": [
  {
   "cell_type": "markdown",
   "metadata": {},
   "source": [
    "# Vitamins\n"
   ]
  },
  {
   "cell_type": "markdown",
   "metadata": {},
   "source": [
    "## Extract"
   ]
  },
  {
   "cell_type": "code",
   "execution_count": 4,
   "metadata": {},
   "outputs": [],
   "source": [
    "import pandas as pd\n",
    "from bs4 import BeautifulSoup\n",
    "from urllib.request import Request, urlopen\n",
    "from datetime import date\n",
    "from openpyxl import load_workbook\n",
    "from selenium import webdriver\n",
    "from selenium.webdriver.common.keys import Keys\n",
    "from selenium.webdriver.support import expected_conditions\n",
    "from selenium.webdriver.common.by import By\n",
    "from selenium.webdriver.support.wait import WebDriverWait"
   ]
  },
  {
   "cell_type": "code",
   "execution_count": 5,
   "metadata": {},
   "outputs": [],
   "source": [
    "foods = ['ברוקולי','בננה','תרד','אבוקדו','שזיף מיובש']"
   ]
  },
  {
   "cell_type": "code",
   "execution_count": 6,
   "metadata": {},
   "outputs": [],
   "source": [
    "def buttonGrab(Xpath,kind = 'button'):\n",
    "    \n",
    "    if kind=='button':\n",
    "        return WebDriverWait(driver,5).until(expected_conditions.element_to_be_clickable((By.XPATH, Xpath)))\n",
    "    \n",
    "    return WebDriverWait(driver,5).until(expected_conditions.element_to_be_selected((By.XPATH, Xpath)))"
   ]
  },
  {
   "cell_type": "code",
   "execution_count": 7,
   "metadata": {},
   "outputs": [],
   "source": [
    "searchBoxXpath = '//*[@id=\"tsf\"]/div[2]/div[1]/div[1]/div/div[2]/input'\n",
    "searchXpath ='//*[@id=\"tsf\"]/div[2]/div[1]/div[3]/center/input[1]'\n",
    "\n",
    "def searcher(food):\n",
    "    \n",
    "    searchBox = buttonGrab(searchBoxXpath)\n",
    "    searchBox.clear()\n",
    "    searchBox.send_keys(food+' ערך תזונתי')\n",
    "        \n",
    "    buttonGrab(searchXpath).click()\n",
    "      \n",
    "    return driver.current_url"
   ]
  },
  {
   "cell_type": "code",
   "execution_count": 8,
   "metadata": {},
   "outputs": [],
   "source": [
    "def scrape(url):\n",
    "    \n",
    "    \n",
    "    req = Request(url, headers={'User-Agent': 'Mozilla/5.0'})\n",
    "    webpage = urlopen(req).read()\n",
    "\n",
    "    soup = BeautifulSoup(webpage, \"html.parser\")\n",
    "\n",
    "\n",
    "    table = soup.find('table')\n",
    "    table_rows = table.find_all('tr')\n",
    "\n",
    "    res = []\n",
    "    for tr in table_rows:\n",
    "        td = tr.find_all('td')\n",
    "        row = [tr.text for tr in td]\n",
    "        res.append(row)   \n",
    "        \n",
    "    return res "
   ]
  },
  {
   "cell_type": "code",
   "execution_count": 9,
   "metadata": {},
   "outputs": [],
   "source": [
    "path = r'C:\\Users\\97250\\Desktop\\studied\\R ,python\\chromedriver.exe'\n",
    "driver = webdriver.Chrome(path)\n",
    "address = \"https://www.google.com/\"\n",
    "driver.get(address)"
   ]
  },
  {
   "cell_type": "code",
   "execution_count": 74,
   "metadata": {},
   "outputs": [],
   "source": [
    "def vitaminsTransposer(vit):\n",
    "    \n",
    "    val = vit[-1][0]\n",
    "    vit.append(val)\n",
    "    vit.append('%')\n",
    "    return vit"
   ]
  },
  {
   "cell_type": "code",
   "execution_count": 11,
   "metadata": {},
   "outputs": [],
   "source": [
    "def foodAncestorsTransposer(value):\n",
    "    \n",
    "    x = [s for s in value if s.isdigit()]\n",
    "\n",
    "    indexBegin = value.index(x[0])\n",
    "    indexEnd   = value.index(x[-1])\n",
    "    \n",
    "    ##rows.append()\n",
    "    \n",
    "    return [value[:indexBegin-1],value[indexBegin:indexEnd+1],value[indexEnd+1:]]\n"
   ]
  },
  {
   "cell_type": "code",
   "execution_count": 13,
   "metadata": {},
   "outputs": [],
   "source": [
    "def scrapeOrderer(table):\n",
    "    \n",
    "    foodAncestors = table[3:15]\n",
    "    vitamins = table[15:]\n",
    "    \n",
    "    vitamins      = [vitaminsTransposer(i[0]) for i in vitamnis]\n",
    "    foodAncestors = [foodAncestorsTransposer(i[0]) for i in foodAncestors]\n",
    "       \n",
    "    transposedTable = foodAncestors.concat(vitamins)\n",
    "    \n",
    "    return transposedTable"
   ]
  },
  {
   "cell_type": "code",
   "execution_count": 30,
   "metadata": {},
   "outputs": [],
   "source": [
    "data=[]\n",
    "\n",
    "for food in foods:\n",
    "    \n",
    "    url = searcher(food)\n",
    "    \n",
    "    try:\n",
    "        res = scrape(url)\n",
    "    except:\n",
    "        pass\n",
    "    \n",
    "    transposedTable = scrapeOrderer(res)\n",
    "        \n",
    "    if len(data) == 0:\n",
    "        data = pd.DataFrame(transposedTable,columns=['vitamin',food])\n",
    "    \n",
    "    else: \n",
    "        data.merge(pd.DataFrame(transposedTable,columns=['vitamin',food]),on='vitamin')\n",
    "        \n",
    "    driver.get(address)"
   ]
  },
  {
   "cell_type": "code",
   "execution_count": 15,
   "metadata": {},
   "outputs": [],
   "source": [
    "data = scrape(searcher('בננה'))"
   ]
  },
  {
   "cell_type": "code",
   "execution_count": 43,
   "metadata": {
    "collapsed": true,
    "jupyter": {
     "outputs_hidden": true
    }
   },
   "outputs": [
    {
     "name": "stdout",
     "output_type": "stream",
     "text": [
      "Total Fat 0.3 g\n",
      "Saturated fat 0.1 g\n",
      "Polyunsaturated fat 0.1 g\n",
      "Monounsaturated fat 0 g\n",
      "Cholesterol 0 mg\n",
      "Sodium 1 mg\n",
      "Potassium 358 mg\n",
      "Total Carbohydrate 23 g\n",
      "Dietary fiber 2.6 g\n",
      "Sugar 12 g\n",
      "Protein 1.1 g\n",
      "Caffeine 0 mg\n"
     ]
    }
   ],
   "source": [
    "for i in foodAncestors:\n",
    "    print(i[0])"
   ]
  },
  {
   "cell_type": "code",
   "execution_count": 52,
   "metadata": {},
   "outputs": [],
   "source": [
    "##foodAncestors = data[3:15]\n",
    "vitamins = data[15:]"
   ]
  },
  {
   "cell_type": "code",
   "execution_count": 67,
   "metadata": {},
   "outputs": [
    {
     "data": {
      "text/plain": [
       "[['Vitamin A', '1%', '', '%'],\n",
       " ['Vitamin C', '14%', '', '%'],\n",
       " ['Calcium', '0%', '', '%'],\n",
       " ['Iron', '1%', '', '%'],\n",
       " ['Vitamin D', '0%', '', '%'],\n",
       " ['Vitamin B-6', '20%', '', '%'],\n",
       " ['Cobalamin', '0%', '', '%'],\n",
       " ['Magnesium', '6%', '', '%']]"
      ]
     },
     "execution_count": 67,
     "metadata": {},
     "output_type": "execute_result"
    }
   ],
   "source": [
    "[vitaminsTransposer(i) for i in vitamins]"
   ]
  },
  {
   "cell_type": "code",
   "execution_count": 73,
   "metadata": {},
   "outputs": [
    {
     "data": {
      "text/plain": [
       "[['Vitamin A', '1%', '', '%'],\n",
       " ['Vitamin C', '14%', '', '%'],\n",
       " ['Calcium', '0%', '', '%'],\n",
       " ['Iron', '1%', '', '%'],\n",
       " ['Vitamin D', '0%', '', '%'],\n",
       " ['Vitamin B-6', '20%', '', '%'],\n",
       " ['Cobalamin', '0%', '', '%'],\n",
       " ['Magnesium', '6%', '', '%']]"
      ]
     },
     "execution_count": 73,
     "metadata": {},
     "output_type": "execute_result"
    }
   ],
   "source": [
    "vitamins"
   ]
  },
  {
   "cell_type": "code",
   "execution_count": 50,
   "metadata": {},
   "outputs": [],
   "source": [
    "\n",
    "rows = []\n",
    "\n",
    "def convertor(value):\n",
    "    \n",
    "    x = [s for s in value if s.isdigit()]\n",
    "\n",
    "    indexBegin = value.index(x[0])\n",
    "    indexEnd   = value.index(x[-1])\n",
    "    \n",
    "    #rows.append()\n",
    "    \n",
    "    return [value[:indexBegin-1],value[indexBegin:indexEnd+1],value[indexEnd+1:]]\n",
    "\n"
   ]
  },
  {
   "cell_type": "code",
   "execution_count": null,
   "metadata": {},
   "outputs": [],
   "source": []
  },
  {
   "cell_type": "code",
   "execution_count": null,
   "metadata": {},
   "outputs": [],
   "source": []
  },
  {
   "cell_type": "code",
   "execution_count": 28,
   "metadata": {},
   "outputs": [
    {
     "name": "stdout",
     "output_type": "stream",
     "text": [
      "['כמות לכל 100 g']\n",
      "['קלוריות (kcal) 88.7']\n",
      "['']\n",
      "['סה\"כ שומן 0.3 g']\n",
      "['שומן רווי 0.1 g']\n",
      "['שומן רב בלתי רווי 0.1 g']\n",
      "['שומן חד בלתי רווי 0 g']\n",
      "['כולסטרול 0 mg']\n",
      "['נתרן 1 mg']\n",
      "['אשלגן 358 mg']\n",
      "['סה\"כ פחמימות 23 g']\n",
      "['סיבים תזונתיים 2.6 g']\n",
      "['סוכר 12 g']\n",
      "['חלבון 1.1 g']\n",
      "['קפאין 0 mg']\n",
      "['ויטמין A']\n",
      "['ויטמין C']\n",
      "['סידן']\n",
      "['ברזל']\n",
      "['ויטמין D']\n",
      "['ויטמין B6']\n",
      "['ויטמין B12']\n",
      "['מגנזיום']\n"
     ]
    }
   ],
   "source": [
    "for i in data:\n",
    "    print(i[0].split(','))"
   ]
  },
  {
   "cell_type": "code",
   "execution_count": 51,
   "metadata": {},
   "outputs": [],
   "source": [
    "data = [] \n",
    "\n",
    "for vit in res:\n",
    "    \n",
    "\n",
    "    data.append([vit[0].split('(')[0],vit[-2]])"
   ]
  },
  {
   "cell_type": "code",
   "execution_count": 52,
   "metadata": {},
   "outputs": [],
   "source": [
    "def hasNumbers(inputString):\n",
    "     return any(char.isdigit() for char in inputString)"
   ]
  },
  {
   "cell_type": "code",
   "execution_count": 53,
   "metadata": {},
   "outputs": [
    {
     "data": {
      "text/plain": [
       "[['Thiamine ', '100 mg'],\n",
       " ['Riboflavin ', '75 mg'],\n",
       " ['Niacin ', '100 mg•'],\n",
       " ['Vitamin B6 ', '100 mg'],\n",
       " ['Folate ', '400 mcg○'],\n",
       " ['Vitamin B12 ', '300 mcg'],\n",
       " ['Biotin', '1000 mcg'],\n",
       " ['Pantothenic acid ', '500 mg'],\n",
       " ['Calcium ', '90 mg'],\n",
       " ['Inositol', '100 mg'],\n",
       " ['PABA ', '50 mg']]"
      ]
     },
     "execution_count": 53,
     "metadata": {},
     "output_type": "execute_result"
    }
   ],
   "source": [
    "data"
   ]
  },
  {
   "cell_type": "code",
   "execution_count": 55,
   "metadata": {},
   "outputs": [],
   "source": [
    "data2=[]\n",
    "\n",
    "for i in data:\n",
    "    data2.append([i[0],int(int(i[1].split()[0])/2)])\n",
    "\n",
    "    \n",
    "data2 = pd.DataFrame(data2,columns=['Vitamin','Amount Per Capsule']).set_index('Vitamin')"
   ]
  }
 ],
 "metadata": {
  "kernelspec": {
   "display_name": "Python 3",
   "language": "python",
   "name": "python3"
  },
  "language_info": {
   "codemirror_mode": {
    "name": "ipython",
    "version": 3
   },
   "file_extension": ".py",
   "mimetype": "text/x-python",
   "name": "python",
   "nbconvert_exporter": "python",
   "pygments_lexer": "ipython3",
   "version": "3.8.3"
  }
 },
 "nbformat": 4,
 "nbformat_minor": 4
}
