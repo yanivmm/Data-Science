{
 "cells": [
  {
   "cell_type": "code",
   "execution_count": 9,
   "metadata": {},
   "outputs": [],
   "source": [
    "\n",
    "from selenium import webdriver\n",
    "from selenium.webdriver.common.keys import Keys\n",
    "from selenium.webdriver.support import expected_conditions\n",
    "from selenium.webdriver.common.by import By\n",
    "from selenium.webdriver.support.wait import WebDriverWait\n",
    "\n",
    "import os\n",
    "import wget\n",
    "import time"
   ]
  },
  {
   "cell_type": "code",
   "execution_count": 10,
   "metadata": {},
   "outputs": [],
   "source": [
    "def buttonGrab(Xpath,kind = 'button'):\n",
    "    \n",
    "    if kind=='button':\n",
    "        return WebDriverWait(driver,10).until(expected_conditions.element_to_be_clickable((By.XPATH, Xpath)))\n",
    "    \n",
    "    return WebDriverWait(driver,10).until(expected_conditions.element_to_be_selected((By.XPATH, Xpath)))"
   ]
  },
  {
   "cell_type": "code",
   "execution_count": 11,
   "metadata": {},
   "outputs": [],
   "source": [
    "###      buttonGrab     If password is not given\n",
    "\n",
    "\n",
    "def logIn():\n",
    "    \n",
    "    \n",
    "    # connecting to the database  \n",
    "    connection = sqlite3.connect(\"Scrpaer.db\") \n",
    "    # cursor  \n",
    "    crsr = connection.cursor() \n",
    "\n",
    "    crsr.execute(\"SELECT * FROM user WHERE site LIKE 'makabi'\") \n",
    "    fetched = crsr.fetchall()\n",
    "\n",
    "    connection.commit() \n",
    "    connection.close() \n",
    "\n",
    "    username = buttonGrab('//*[@id=\"identifyWithPasswordCitizenId\"]')\n",
    "    password = buttonGrab('//*[@id=\"password\"]')\n",
    "    login    = buttonGrab('//*[@id=\"IdentifyWithPassword\"]/button')\n",
    "\n",
    "    username.clear()\n",
    "    password.clear()\n",
    "\n",
    "    username.send_keys(fetched[0][0])\n",
    "    password.send_keys(fetched[0][1])\n",
    "\n",
    "    login.click()"
   ]
  },
  {
   "cell_type": "code",
   "execution_count": 6,
   "metadata": {},
   "outputs": [],
   "source": [
    "apply ='schedule'"
   ]
  },
  {
   "cell_type": "code",
   "execution_count": 7,
   "metadata": {},
   "outputs": [
    {
     "ename": "TimeoutException",
     "evalue": "Message: \n",
     "output_type": "error",
     "traceback": [
      "\u001b[1;31m---------------------------------------------------------------------------\u001b[0m",
      "\u001b[1;31mTimeoutException\u001b[0m                          Traceback (most recent call last)",
      "\u001b[1;32m<ipython-input-7-e47cc2ea8609>\u001b[0m in \u001b[0;36m<module>\u001b[1;34m\u001b[0m\n\u001b[0;32m     19\u001b[0m     \u001b[0mbuttonGrab\u001b[0m\u001b[1;33m(\u001b[0m\u001b[0mXpath\u001b[0m\u001b[1;33m)\u001b[0m\u001b[1;33m.\u001b[0m\u001b[0mclick\u001b[0m\u001b[1;33m(\u001b[0m\u001b[1;33m)\u001b[0m\u001b[1;33m\u001b[0m\u001b[1;33m\u001b[0m\u001b[0m\n\u001b[0;32m     20\u001b[0m     \u001b[0mXpath\u001b[0m \u001b[1;33m=\u001b[0m \u001b[1;34m'//*[@id=\"ui-selectmenu-item-90\"]'\u001b[0m\u001b[1;33m\u001b[0m\u001b[1;33m\u001b[0m\u001b[0m\n\u001b[1;32m---> 21\u001b[1;33m     \u001b[0mbuttonGrab\u001b[0m\u001b[1;33m(\u001b[0m\u001b[0mXpath\u001b[0m\u001b[1;33m)\u001b[0m\u001b[1;33m.\u001b[0m\u001b[0mclick\u001b[0m\u001b[1;33m(\u001b[0m\u001b[1;33m)\u001b[0m\u001b[1;33m\u001b[0m\u001b[1;33m\u001b[0m\u001b[0m\n\u001b[0m\u001b[0;32m     22\u001b[0m \u001b[1;33m\u001b[0m\u001b[0m\n\u001b[0;32m     23\u001b[0m     \u001b[0mXpath\u001b[0m \u001b[1;33m=\u001b[0m \u001b[1;34m'//*[@id=\"pageControlDiv\"]/div[2]/div[2]/div/div[1]/div[2]/a/span[1]'\u001b[0m\u001b[1;33m\u001b[0m\u001b[1;33m\u001b[0m\u001b[0m\n",
      "\u001b[1;32m<ipython-input-2-65ea929c3ba3>\u001b[0m in \u001b[0;36mbuttonGrab\u001b[1;34m(Xpath, kind)\u001b[0m\n\u001b[0;32m      2\u001b[0m \u001b[1;33m\u001b[0m\u001b[0m\n\u001b[0;32m      3\u001b[0m     \u001b[1;32mif\u001b[0m \u001b[0mkind\u001b[0m\u001b[1;33m==\u001b[0m\u001b[1;34m'button'\u001b[0m\u001b[1;33m:\u001b[0m\u001b[1;33m\u001b[0m\u001b[1;33m\u001b[0m\u001b[0m\n\u001b[1;32m----> 4\u001b[1;33m         \u001b[1;32mreturn\u001b[0m \u001b[0mWebDriverWait\u001b[0m\u001b[1;33m(\u001b[0m\u001b[0mdriver\u001b[0m\u001b[1;33m,\u001b[0m\u001b[1;36m10\u001b[0m\u001b[1;33m)\u001b[0m\u001b[1;33m.\u001b[0m\u001b[0muntil\u001b[0m\u001b[1;33m(\u001b[0m\u001b[0mexpected_conditions\u001b[0m\u001b[1;33m.\u001b[0m\u001b[0melement_to_be_clickable\u001b[0m\u001b[1;33m(\u001b[0m\u001b[1;33m(\u001b[0m\u001b[0mBy\u001b[0m\u001b[1;33m.\u001b[0m\u001b[0mXPATH\u001b[0m\u001b[1;33m,\u001b[0m \u001b[0mXpath\u001b[0m\u001b[1;33m)\u001b[0m\u001b[1;33m)\u001b[0m\u001b[1;33m)\u001b[0m\u001b[1;33m\u001b[0m\u001b[1;33m\u001b[0m\u001b[0m\n\u001b[0m\u001b[0;32m      5\u001b[0m \u001b[1;33m\u001b[0m\u001b[0m\n\u001b[0;32m      6\u001b[0m     \u001b[1;32mreturn\u001b[0m \u001b[0mWebDriverWait\u001b[0m\u001b[1;33m(\u001b[0m\u001b[0mdriver\u001b[0m\u001b[1;33m,\u001b[0m\u001b[1;36m10\u001b[0m\u001b[1;33m)\u001b[0m\u001b[1;33m.\u001b[0m\u001b[0muntil\u001b[0m\u001b[1;33m(\u001b[0m\u001b[0mexpected_conditions\u001b[0m\u001b[1;33m.\u001b[0m\u001b[0melement_to_be_selected\u001b[0m\u001b[1;33m(\u001b[0m\u001b[1;33m(\u001b[0m\u001b[0mBy\u001b[0m\u001b[1;33m.\u001b[0m\u001b[0mXPATH\u001b[0m\u001b[1;33m,\u001b[0m \u001b[0mXpath\u001b[0m\u001b[1;33m)\u001b[0m\u001b[1;33m)\u001b[0m\u001b[1;33m)\u001b[0m\u001b[1;33m\u001b[0m\u001b[1;33m\u001b[0m\u001b[0m\n",
      "\u001b[1;32m~\\anaconda3\\Lib\\site-packages\\selenium\\webdriver\\support\\wait.py\u001b[0m in \u001b[0;36muntil\u001b[1;34m(self, method, message)\u001b[0m\n\u001b[0;32m     78\u001b[0m             \u001b[1;32mif\u001b[0m \u001b[0mtime\u001b[0m\u001b[1;33m.\u001b[0m\u001b[0mtime\u001b[0m\u001b[1;33m(\u001b[0m\u001b[1;33m)\u001b[0m \u001b[1;33m>\u001b[0m \u001b[0mend_time\u001b[0m\u001b[1;33m:\u001b[0m\u001b[1;33m\u001b[0m\u001b[1;33m\u001b[0m\u001b[0m\n\u001b[0;32m     79\u001b[0m                 \u001b[1;32mbreak\u001b[0m\u001b[1;33m\u001b[0m\u001b[1;33m\u001b[0m\u001b[0m\n\u001b[1;32m---> 80\u001b[1;33m         \u001b[1;32mraise\u001b[0m \u001b[0mTimeoutException\u001b[0m\u001b[1;33m(\u001b[0m\u001b[0mmessage\u001b[0m\u001b[1;33m,\u001b[0m \u001b[0mscreen\u001b[0m\u001b[1;33m,\u001b[0m \u001b[0mstacktrace\u001b[0m\u001b[1;33m)\u001b[0m\u001b[1;33m\u001b[0m\u001b[1;33m\u001b[0m\u001b[0m\n\u001b[0m\u001b[0;32m     81\u001b[0m \u001b[1;33m\u001b[0m\u001b[0m\n\u001b[0;32m     82\u001b[0m     \u001b[1;32mdef\u001b[0m \u001b[0muntil_not\u001b[0m\u001b[1;33m(\u001b[0m\u001b[0mself\u001b[0m\u001b[1;33m,\u001b[0m \u001b[0mmethod\u001b[0m\u001b[1;33m,\u001b[0m \u001b[0mmessage\u001b[0m\u001b[1;33m=\u001b[0m\u001b[1;34m''\u001b[0m\u001b[1;33m)\u001b[0m\u001b[1;33m:\u001b[0m\u001b[1;33m\u001b[0m\u001b[1;33m\u001b[0m\u001b[0m\n",
      "\u001b[1;31mTimeoutException\u001b[0m: Message: \n"
     ]
    }
   ],
   "source": [
    "if apply == 'schedule':\n",
    "\n",
    "    \n",
    "    address = \"https://mac.maccabi4u.co.il/login?SAMLRequest=rZJbS8QwEIX%2FSsl72zR7EcO2srqIC14Wt%2Fjgi6TpuBtIJzWTevn3tl1BRdgn%0AHwIDOTNzvsMsSDW2lcsu7PEeXjqgEL03FkmOHznrPEqnyJBE1QDJoOV2eXMt%0ARcJl611w2lkWrfo%2BgyoYhznbh9CSTNNG6aR%2FWlVm2iXaJcam1u0MsujSeQ3j%0A0pxxFq1XOXua8JOJUCDE%2FHQinkVVAdeg9Wyo5xrmvYyogzVSUBhyJrjgcZbF%0AfFpmU5lxOZs9smjz5encYG1wdxygOohIXpXlJt7cbctxwKupwd%2F26m8Wh9Yg%0A%2FMGpFaoYVap6lHRILAasW2cwJHpnztqcWsGiB%2FA0JtPvZMVi0MmRxf%2FI%2BrhT%0ARQR%2BiJcV%2F2Bpkf7wcDDUygF4vdo4a%2FRHtLTWvV14UKEPIWNpcWj5fSnFJw%3D%3D%0A&RelayState=https%3A%2F%2Fonline.maccabi4u.co.il&SigAlg=http%3A%2F%2Fwww.w3.org%2F2000%2F09%2Fxmldsig%23rsa-sha1&Signature=nxWfZxAKFqQWLM1xXSKXyQR7a5JFycfzYqYy057Tx61AtT2fqRgXMc%2Fh%2B73l0vFXjRSWefYv0FOKBosaMHBdJSVbIZ9j1wAntf3U4EKfxIrfaDdbR%2FqCsFxlKrx0lGklf3RVldk456wChbCQKDeJx2%2Fxeqk4GCMLum%2FfjZkfPCRlqgvsmU3xSSe35jjgiQ7Fw4plkDf9ZWrsGiox7ZjhXk6y4Hb1nQJsWdY042t8TXz5893juo%2FMdlFN0XLbQs7wFBvXsqcFGEQjzEogClAwN7WfDoOgO%2FwlDmM4nZlBd0OK8K3djHTdux9OgEweTcLFTR5O0TeOyrvk7yYA%2FgryjA%3D%3D\"\n",
    "    driver.get(address)\n",
    "    \n",
    "    logIn()\n",
    "    #זימון תור חדש\n",
    "\n",
    "    \n",
    "    Xpath = '//*[@id=\"ctl00_ctl00_MainPlaceHolder_Body_wcHomeUserPersonalNavMenu_rptUserPersonalMenu_ctl00_imgOuter\"]'\n",
    "    buttonGrab(Xpath).click()\n",
    "\n",
    "    #לחיצה על דוקטור מסויים  \n",
    "    Xpath = '//*[@id=\"ctl01_doctorsGrid_ctl02_aOrderMaccabi\"]/span[1]'\n",
    "    buttonGrab(Xpath).click()\n",
    "\n",
    "    # לחיצה על שאלות קורוניות\n",
    "\n",
    "    while 'איתור שירות לזימון תור' in driver.title:\n",
    "        Xpath = '//*[@id=\"app\"]/div/div[1]/div[2]/div[4]/button'\n",
    "        buttonGrab(Xpath).click()    \n",
    "\n",
    "    Xpath = '//*[@id=\"ddlVisitType-button\"]'\n",
    "    buttonGrab(Xpath).click()\n",
    "    Xpath = '//*[@id=\"ui-selectmenu-item-90\"]'\n",
    "    buttonGrab(Xpath).click()\n",
    "\n",
    "    Xpath = '//*[@id=\"pageControlDiv\"]/div[2]/div[2]/div/div[1]/div[2]/a/span[1]'\n",
    "    buttonGrab(Xpath).click()\n",
    "\n",
    "\n",
    "    Xpath = '//*[@id=\"ddlVisitType-menu\"]/li[3]/a'\n",
    "    buttonGrab(Xpath).click()"
   ]
  },
  {
   "cell_type": "code",
   "execution_count": null,
   "metadata": {},
   "outputs": [],
   "source": [
    "if apply =='testResults':\n",
    "    \n",
    "    address = 'https://mac.maccabi4u.co.il/login?SAMLRequest=rZLLTsMwEEV%2FJfI%2BL0Oa1mqCChWiEo%2BIRizYINcxrSVnHDwOj7%2FHSStRhNQV%0AkmflOzP3XM0ceas7tujdDh7lWy%2FRBZ%2BtBmTjR0F6C8xwVMiAtxKZE2y9uLtl%0ANEpYZ40zwmgSLH2fAu6UgYLsnOuQxXHLReRL8I067yNhIqVjbbYKSHBtrJDj%0A0oIkJFgtC%2FKSzXI5pbPNZDKhXDapmNEpTc6aLMun2WsuvQyxlytAx8EVhCY0%0ACdPUvzrJWJaxJH8mQXXwdKmgUbA9DbDZi5Dd1HUVVg%2Frehzwrhpp7736h8WA%0AViD%2F4DQceAg85h4lHhILJTSdUeAisVUXXYEdJcGTtDgm43eScj7o2Mhij7I%2B%0A7ZQjSjvES8p%2FsDSPjzzsDXVsAF4tK6OV%2BAoWWpuPKyu58yGkJC73Lb8vpfwG%0A&RelayState=https%3A%2F%2Fonline.maccabi4u.co.il&SigAlg=http%3A%2F%2Fwww.w3.org%2F2000%2F09%2Fxmldsig%23rsa-sha1&Signature=l%2B%2FMRloAmy8wYGDgOdW09IAr3v%2BwpuAZKP8v88h6172TgBoDTM5NFxQHmhtosA4cjrIOzopEutOU%2FMzGE5IW5MWEDxAYGuzU0idSNyJVsK9eLo61LYDUeNnHL5y6RSiuhK2gpNMOrFsjRWGrHddEkNg5kpYsW%2BIFu8DBR5p4LlEfpwaAkko%2FGYu3jwW25U6e1Vv3E4udyGS6A%2FhjeRZX2ZKTyYnEZpaboip9uJfBoD%2BPNE6YP4b%2FmZzqCheZbm92oF1u8%2Bhg0XP25EVM2zERRmxW8nCjOA8DW%2BQT71cWi8hhXuBsnU08vwKWf06EFQW3AWGFSVDjdKtvTKiatHqjoQ%3D%3D'\n",
    "    driver.get(address)\n",
    "    \n",
    "    logIn()\n"
   ]
  },
  {
   "cell_type": "code",
   "execution_count": null,
   "metadata": {},
   "outputs": [],
   "source": [
    "if apply == 'QA'\n",
    "    \n",
    "    address = 'https://mac.maccabi4u.co.il/login?SAMLRequest=rZLLTsMwEEV%2FJfI%2BcZq2SWs1QYUKUYlHBBELNshxTGvJGQePw%2BPvcVIkipC6%0AQvKsfGfmnqtZIW91x9a928O9fO0luuCj1YBs%2FMhJb4EZjgoZ8FYic4I9rG%2Bu%0AWRLFrLPGGWE0CTa%2BTwF3ykBO9s51yChtuYh8CV6rWR8JEylNtdkpIMGlsUKO%0AS3MSk2C7ycnzYtmkWSbr%2BTRLM5HOpjxbvCQpn6epXE5ntZch9nIL6Di4nCRx%0AEoeTiX9VnLI4ZvPlEwnKb0%2FnChoFu9MA9UGE7KqqyrC8e6jGAW%2BqkfbWq39Y%0ADGgF8g9Ow4GHwCn3KHRILJTQdEaBi8ROnXU5dgkJHqXFMRm%2FkxSrQcdGFnuU%0A9WmnHFHaIV5S%2FIOlFT3ycDDUsQF4uymNVuIzWGtt3i%2Bs5M6HMCG0OLT8vpTi%0ACw%3D%3D%0A&RelayState=https%3A%2F%2Fonline.maccabi4u.co.il&SigAlg=http%3A%2F%2Fwww.w3.org%2F2000%2F09%2Fxmldsig%23rsa-sha1&Signature=oRq1glyVM8wbqjm7bHQxl4PRgx8VxvGjUUsNKKY2YyXIz3S1%2FqiR3eEOsmFKsMBAywHLie5cYV6ugDPiyJx8uiMXo4MSki3mSo2m4ovS%2FK44FTqxQw0%2Bjmzp%2BWb%2FO%2BrGamhQkOLaOOnUGBYZDc0MY0C7RzznC3qQicjstCcBwA5khG9bHiFeWE7EJ0lquevnFVLQrXZEKUASfF9oOSJn1ahYuT7n6emUsAedXonRPQhIwijiNGqwkifVVQS%2BmOGk9dVBzCYOyBcIRplzZQAxCK1%2FloOFAXjahyJJgTw8mEtmDxsFdbRcRtkq7%2FRwb0WRt2conOxtZGSuKtKnKH%2F5Qw%3D%3D'\n",
    "    driver.get(address)\n",
    "    \n",
    "    logIn()\n",
    "\n",
    "    \n"
   ]
  }
 ],
 "metadata": {
  "kernelspec": {
   "display_name": "Python 3",
   "language": "python",
   "name": "python3"
  },
  "language_info": {
   "codemirror_mode": {
    "name": "ipython",
    "version": 3
   },
   "file_extension": ".py",
   "mimetype": "text/x-python",
   "name": "python",
   "nbconvert_exporter": "python",
   "pygments_lexer": "ipython3",
   "version": "3.8.3"
  }
 },
 "nbformat": 4,
 "nbformat_minor": 4
}
