
{
 "cells": [
  {
   "cell_type": "markdown",
   "metadata": {},
   "source": [
    " "
   ]
  },
  {
   "cell_type": "markdown",
   "metadata": {},
   "source": [
    " "
   ]
  },
  {
   "cell_type": "markdown",
   "metadata": {},
   "source": [
    "<h1><center>Instagram Scraper</center></h1>"
   ]
  },
  {
   "cell_type": "markdown",
   "metadata": {},
   "source": [
    "### Imports"
   ]
  },
  {
   "cell_type": "code",
   "execution_count": 15,
   "metadata": {},
   "outputs": [],
   "source": [
    "###                               ETL\n",
    "\n",
    "\n",
    "\n",
    "#Extraction libreries\n",
    "from selenium import webdriver\n",
    "from selenium.webdriver.common.keys import Keys\n",
    "from selenium.webdriver.support import expected_conditions\n",
    "from selenium.webdriver.common.by import By\n",
    "from selenium.webdriver.support.wait import WebDriverWait\n",
    "import time\n",
    "\n",
    "#Transpose-Libraries\n",
    "import pandas as pd\n",
    "\n",
    "#Load-Libraries\n",
    "import sqlite3\n",
    "import datetime\n",
    "from openpyxl import load_workbook\n",
    "import random"
   ]
  },
  {
   "cell_type": "code",
   "execution_count": 16,
   "metadata": {},
   "outputs": [],
   "source": [
    "today = datetime.date.today()\n",
    "yesterday  = today-datetime.timedelta(days = 1)\n",
    "the_day_before_yesterday = today-datetime.timedelta(days = 2)\n",
    "timeSleep = 2\n",
    "InstaPeople = ['billieeilish','justinbieber','katyperry','realdonaldtrump','b.netanyahu','melaniekroll','leelevi','margauxdietz','hollyjboo','neleburgemstr']"
   ]
  },
  {
   "cell_type": "markdown",
   "metadata": {},
   "source": [
    "### General Functions"
   ]
  },
  {
   "cell_type": "code",
   "execution_count": 17,
   "metadata": {},
   "outputs": [],
   "source": [
    "def day(last_sheet_name):\n",
    "    \n",
    "    if last_sheet_name == str(yesterday):\n",
    "        return str(today)\n",
    "    \n",
    "    # If didn't parse yesterday -save on yesterday's date.\n",
    "    elif last_sheet_name == str(the_day_before_yesterday):\n",
    "        return str(yesterday)\n",
    "    \n",
    "    else:  # Save as 'lags'.\n",
    "        return 'This sheet lags,scraped in '+str(today)"
   ]
  },
  {
   "cell_type": "code",
   "execution_count": 18,
   "metadata": {},
   "outputs": [],
   "source": [
    "def commentFinder(numComment=0):\n",
    "    \n",
    "    #numComment = 0 takes the head comment.\n",
    "    \n",
    "    return '/html/body/div[6]/div[2]/div/article/div[3]/div[1]/ul/ul[{}]/div/li/div/div[1]/div[2]'.format(numComment)"
   ]
  },
  {
   "cell_type": "code",
   "execution_count": 19,
   "metadata": {},
   "outputs": [],
   "source": [
    "#general photo scraping\n",
    "def photoFinder(row,col):\n",
    "    \n",
    "    if col not in [1,2,3]:\n",
    "        col = 3\n",
    "        print('photo colum has been changed to 3 ')\n",
    "    \n",
    "    try:\n",
    "        Xpath =  '//*[@id\"react-root\"]/section/main/div/div[4]/article/div[1]/div/div[{0}]/div[{1}]/a/div/div[2]'.format(row,col)\n",
    "        buttonGrab(Xpath).click()\n",
    "  \n",
    "    except:\n",
    "        Xpath =  '//*[@id=\"react-root\"]/section/main/div/div[3]/article/div[1]/div/div[{0}]/div[{1}]/a/div/div[2]'.format(row,col)\n",
    "        buttonGrab(Xpath).click()"
   ]
  },
  {
   "cell_type": "code",
   "execution_count": 20,
   "metadata": {},
   "outputs": [],
   "source": [
    "# Button-Grab-and-Wait -Function\n",
    "def buttonGrab(Xpath):\n",
    "    return WebDriverWait(driver,10).until(expected_conditions.element_to_be_clickable((By.XPATH, Xpath)))"
   ]
  },
  {
   "cell_type": "markdown",
   "metadata": {},
   "source": [
    "### Extract Password from Local SQL-DataBase"
   ]
  },
  {
   "cell_type": "code",
   "execution_count": 21,
   "metadata": {},
   "outputs": [],
   "source": [
    "connection = sqlite3.connect(\"Scrpaer.db\") \n",
    "crsr = connection.cursor() \n",
    "\n",
    "crsr.execute(\"SELECT * FROM user where site like 'facebook'\") \n",
    "fetched = crsr.fetchall()\n",
    "\n",
    "connection.commit() \n",
    "connection.close() "
   ]
  },
  {
   "cell_type": "markdown",
   "metadata": {},
   "source": [
    "### In-Use Function"
   ]
  },
  {
   "cell_type": "code",
   "execution_count": 22,
   "metadata": {},
   "outputs": [],
   "source": [
    "searchBoxXpath = '//*[@id=\"react-root\"]/section/nav/div[2]/div/div/div[2]/input'\n",
    "resultXpath = '//*[@id=\"react-root\"]/section/nav/div[2]/div/div/div[2]/div[4]/div/a[1]/div'"
   ]
  },
  {
   "cell_type": "code",
   "execution_count": 23,
   "metadata": {
    "scrolled": true
   },
   "outputs": [],
   "source": [
    "def searcher(numResult=1):\n",
    "    \n",
    "    searchBox = buttonGrab(searchBoxXpath)\n",
    "    searchBox.clear()\n",
    "    searchBox.send_keys(person)\n",
    "       \n",
    "    buttonGrab(resultXpath).click()\n",
    "    time.sleep(timeSleep)"
   ]
  },
  {
   "cell_type": "code",
   "execution_count": 24,
   "metadata": {},
   "outputs": [],
   "source": [
    "\n",
    "def scrapData():\n",
    "    \n",
    "    \n",
    "    \"\"\"\n",
    "    scarps data\n",
    "    \"\"\"\n",
    "    \n",
    "    nameXpath      = '//*[@id=\"react-root\"]/section/main/div/header/section/div[1]/h2'\n",
    "    followersXpath = '//*[@id=\"react-root\"]/section/main/div/header/section/ul/li[2]/a/span'\n",
    "    followingXpath = '//*[@id=\"react-root\"]/section/main/div/header/section/ul/li[3]/a/span'\n",
    "    numPostsXpath  = '//*[@id=\"react-root\"]/section/main/div/header/section/ul/li[1]/span/span'\n",
    "    \n",
    "    nameOnInstagram = buttonGrab(nameXpath).text\n",
    "    followers = buttonGrab(followersXpath).text\n",
    "    following = buttonGrab(followingXpath).text\n",
    "    numPosts  = buttonGrab(numPostsXpath).text\n",
    "    \n",
    "    print([person,following,followers,numPosts])\n",
    "    \n",
    "    return [person,following,followers,numPosts,nameOnInstagram] \n",
    "    "
   ]
  },
  {
   "cell_type": "code",
   "execution_count": 25,
   "metadata": {},
   "outputs": [],
   "source": [
    "def validate(person,nameOnInstagram):\n",
    "        \n",
    "    if person != nameOnInstagram:\n",
    "        \n",
    "        nameValidation.append([person,nameOnInstagram])"
   ]
  },
  {
   "cell_type": "code",
   "execution_count": 26,
   "metadata": {},
   "outputs": [],
   "source": [
    "def scrap(person):\n",
    "    \n",
    "    try:   \n",
    "        return scrapData()\n",
    "    \n",
    "    except:\n",
    "        # Add unsucssefull person to a list.\n",
    "        if person not in unsuccessParsing:\n",
    "            unsuccessParsing.append(person)\n",
    "        return ['','']\n",
    "    \n",
    "    # For the manual process- re() func.\n",
    "    finally:\n",
    "        global x \n",
    "        x = person"
   ]
  },
  {
   "cell_type": "markdown",
   "metadata": {},
   "source": [
    "### Start"
   ]
  },
  {
   "cell_type": "code",
   "execution_count": 27,
   "metadata": {},
   "outputs": [],
   "source": [
    "path = r'C:\\Users\\97250\\Desktop\\studied\\R ,python\\chromedriver.exe'\n",
    "driver = webdriver.Chrome(path)\n",
    "driver.get(\"https://www.instagram.com/\")\n",
    "assert \"Instagram\" in driver.title"
   ]
  },
  {
   "cell_type": "code",
   "execution_count": 28,
   "metadata": {},
   "outputs": [],
   "source": [
    "#the Facebook button\n",
    "facebookXPath ='//*[@id=\"loginForm\"]/div/div[5]/button/span[2]'\n",
    "buttonGrab(facebookXPath).click()"
   ]
  },
  {
   "cell_type": "code",
   "execution_count": 29,
   "metadata": {},
   "outputs": [],
   "source": [
    "username = buttonGrab('//*[@id=\"email\"]')\n",
    "password = buttonGrab('//*[@id=\"pass\"]')\n",
    "login =    buttonGrab('//*[@id=\"loginbutton\"]')"
   ]
  },
  {
   "cell_type": "code",
   "execution_count": 30,
   "metadata": {},
   "outputs": [],
   "source": [
    "username.clear()\n",
    "password.clear()\n",
    "\n",
    "username.send_keys(fetched[0][0])\n",
    "password.send_keys(fetched[0][1])\n",
    "\n",
    "login.click()"
   ]
  },
  {
   "cell_type": "code",
   "execution_count": 31,
   "metadata": {},
   "outputs": [],
   "source": [
    "#  Skip buttons\n",
    "\n",
    "try:\n",
    "    continueAsXpath = '//*[@id=\"u_0_z\"]/div[1]/div/div/div[3]/button[1]'\n",
    "    buttonGrab(continueAsXpath).click()\n",
    "    \n",
    "except:\n",
    "    pass\n",
    "\n",
    "#click not now ver 2\n",
    "try:\n",
    "    notNowXPath = '/html/body/div[4]/div/div/div/div[3]/button[2]'\n",
    "    buttonGrab(notNowXPath).click()\n",
    "\n",
    "except:\n",
    "    pass"
   ]
  },
  {
   "cell_type": "code",
   "execution_count": 32,
   "metadata": {},
   "outputs": [],
   "source": [
    "data = []\n",
    "nameValidation = []\n",
    "unsuccessParsing = []\n",
    "row=['','']   # Meant to deal 1st Iteration"
   ]
  },
  {
   "cell_type": "raw",
   "metadata": {},
   "source": [
    "###    Manual fixing.\n",
    "\n",
    "def re(InstaPeople):\n",
    "\n",
    "    # If program stuck run this and continue scraping \n",
    "    row=['',''] \n",
    "    stopIdx = InstaPeople.index(x) \n",
    "    InstaPeople = InstaPeople[stopIdx+1:]\n",
    "    print(InstaPeople)"
   ]
  },
  {
   "cell_type": "markdown",
   "metadata": {},
   "source": [
    "## DO THE MAGIC"
   ]
  },
  {
   "cell_type": "code",
   "execution_count": 33,
   "metadata": {},
   "outputs": [
    {
     "name": "stdout",
     "output_type": "stream",
     "text": [
      "['justinbieber', '515', '154m', '5,938']\n",
      "['katyperry', '637', '109m', '1,701']\n",
      "['realdonaldtrump', '8', '24.5m', '6,061']\n",
      "['b.netanyahu', '10', '900k', '4,119']\n",
      "['melaniekroll', '189', '221k', '616']\n",
      "['leelevi', '2,509', '146k', '2,609']\n",
      "['margauxdietz', '2,725', '401k', '3,180']\n",
      "['hollyjboo', '1,010', '51.5k', '1,142']\n",
      "['neleburgemstr', '2,737', '36.6k', '452']\n"
     ]
    }
   ],
   "source": [
    "for person in InstaPeople:\n",
    "\n",
    "    lastScraped = row.copy()\n",
    "    \n",
    "    searcher(person)\n",
    "    \n",
    "    row = scrap(person)\n",
    "    \n",
    "\n",
    "    # Preventing matches\n",
    "    loop = 0        \n",
    "    while  row[1:] == lastScraped[1:]:\n",
    "\n",
    "        time.sleep(5)\n",
    "        \n",
    "        #Additional steps for insuring clear field\n",
    "        searchBox = buttonGrab(searchBoxXpath)\n",
    "        searchBox.clear()\n",
    "        \n",
    "        searcher(person)\n",
    "        row = scrap(person)\n",
    "\n",
    "        loop+=1\n",
    "        if loop>3:\n",
    "            break\n",
    "\n",
    "    if len(row) >2:\n",
    "        data.append(row[:-1])\n",
    "\n",
    "    validate(row[0],row[-1])"
   ]
  },
  {
   "cell_type": "code",
   "execution_count": 34,
   "metadata": {},
   "outputs": [],
   "source": [
    "driver.close()"
   ]
  },
  {
   "cell_type": "code",
   "execution_count": 35,
   "metadata": {},
   "outputs": [
    {
     "name": "stdout",
     "output_type": "stream",
     "text": [
      "\n",
      "\n",
      "Name was changed : []\n",
      "Parse Error : ['billieeilish', 'justinbieber']\n",
      "\n"
     ]
    }
   ],
   "source": [
    "print()\n",
    "print()\n",
    "\n",
    "print('Name was changed :' ,nameValidation)\n",
    "print('Parse Error :', unsuccessParsing)\n",
    "\n",
    "print()"
   ]
  },
  {
   "cell_type": "markdown",
   "metadata": {},
   "source": [
    "## Transpose"
   ]
  },
  {
   "cell_type": "code",
   "execution_count": 50,
   "metadata": {},
   "outputs": [],
   "source": [
    "dataWorkFlow = data.copy() \n",
    "dataWorkFlow = pd.DataFrame(dataWorkFlow,columns = ['person','following','followers','numPosts'])\n",
    "dataWorkFlow = dataWorkFlow.set_index('person')"
   ]
  },
  {
   "cell_type": "code",
   "execution_count": 51,
   "metadata": {},
   "outputs": [],
   "source": [
    "def convertor(x):\n",
    "    \n",
    "    def remover(x):\n",
    "        x = x.replace('k','').replace('m','').replace(',','')\n",
    "        return float(x)\n",
    "    \n",
    "    x = str(x)\n",
    "    \n",
    "    if 'k' in x:\n",
    "        return int(remover(x)*1000)\n",
    "        \n",
    "    if 'm' in x:\n",
    "        return int(remover(x)*1000000)\n",
    "    \n",
    "    else:\n",
    "        return int(remover(x))\n",
    "\n",
    "dataWorkFlow['followers'] = dataWorkFlow['followers'].apply(convertor)\n",
    "dataWorkFlow['following'] = dataWorkFlow['following'].apply(convertor)\n",
    "dataWorkFlow['numPosts']  = dataWorkFlow['numPosts'].apply(convertor)\n"
   ]
  },
  {
   "cell_type": "code",
   "execution_count": 52,
   "metadata": {},
   "outputs": [
    {
     "data": {
      "text/html": [
       "<div>\n",
       "<style scoped>\n",
       "    .dataframe tbody tr th:only-of-type {\n",
       "        vertical-align: middle;\n",
       "    }\n",
       "\n",
       "    .dataframe tbody tr th {\n",
       "        vertical-align: top;\n",
       "    }\n",
       "\n",
       "    .dataframe thead th {\n",
       "        text-align: right;\n",
       "    }\n",
       "</style>\n",
       "<table border=\"1\" class=\"dataframe\">\n",
       "  <thead>\n",
       "    <tr style=\"text-align: right;\">\n",
       "      <th></th>\n",
       "      <th>following</th>\n",
       "      <th>followers</th>\n",
       "      <th>numPosts</th>\n",
       "    </tr>\n",
       "    <tr>\n",
       "      <th>person</th>\n",
       "      <th></th>\n",
       "      <th></th>\n",
       "      <th></th>\n",
       "    </tr>\n",
       "  </thead>\n",
       "  <tbody>\n",
       "    <tr>\n",
       "      <th>justinbieber</th>\n",
       "      <td>515</td>\n",
       "      <td>154000000</td>\n",
       "      <td>5938</td>\n",
       "    </tr>\n",
       "    <tr>\n",
       "      <th>katyperry</th>\n",
       "      <td>637</td>\n",
       "      <td>109000000</td>\n",
       "      <td>1701</td>\n",
       "    </tr>\n",
       "    <tr>\n",
       "      <th>realdonaldtrump</th>\n",
       "      <td>8</td>\n",
       "      <td>24500000</td>\n",
       "      <td>6061</td>\n",
       "    </tr>\n",
       "    <tr>\n",
       "      <th>b.netanyahu</th>\n",
       "      <td>10</td>\n",
       "      <td>900000</td>\n",
       "      <td>4119</td>\n",
       "    </tr>\n",
       "    <tr>\n",
       "      <th>melaniekroll</th>\n",
       "      <td>189</td>\n",
       "      <td>221000</td>\n",
       "      <td>616</td>\n",
       "    </tr>\n",
       "    <tr>\n",
       "      <th>leelevi</th>\n",
       "      <td>2509</td>\n",
       "      <td>146000</td>\n",
       "      <td>2609</td>\n",
       "    </tr>\n",
       "    <tr>\n",
       "      <th>margauxdietz</th>\n",
       "      <td>2725</td>\n",
       "      <td>401000</td>\n",
       "      <td>3180</td>\n",
       "    </tr>\n",
       "    <tr>\n",
       "      <th>hollyjboo</th>\n",
       "      <td>1010</td>\n",
       "      <td>51500</td>\n",
       "      <td>1142</td>\n",
       "    </tr>\n",
       "    <tr>\n",
       "      <th>neleburgemstr</th>\n",
       "      <td>2737</td>\n",
       "      <td>36600</td>\n",
       "      <td>452</td>\n",
       "    </tr>\n",
       "  </tbody>\n",
       "</table>\n",
       "</div>"
      ],
      "text/plain": [
       "                 following  followers  numPosts\n",
       "person                                         \n",
       "justinbieber           515  154000000      5938\n",
       "katyperry              637  109000000      1701\n",
       "realdonaldtrump          8   24500000      6061\n",
       "b.netanyahu             10     900000      4119\n",
       "melaniekroll           189     221000       616\n",
       "leelevi               2509     146000      2609\n",
       "margauxdietz          2725     401000      3180\n",
       "hollyjboo             1010      51500      1142\n",
       "neleburgemstr         2737      36600       452"
      ]
     },
     "execution_count": 52,
     "metadata": {},
     "output_type": "execute_result"
    }
   ],
   "source": [
    "dataWorkFlow"
   ]
  },
  {
   "cell_type": "markdown",
   "metadata": {},
   "source": [
    "##  Save to XL"
   ]
  },
  {
   "cell_type": "code",
   "execution_count": 39,
   "metadata": {},
   "outputs": [
    {
     "name": "stderr",
     "output_type": "stream",
     "text": [
      "<ipython-input-39-77948bcc5f45>:7: DeprecationWarning: Call to deprecated function get_sheet_names (Use wb.sheetnames).\n",
      "  last_sheet_name = book.get_sheet_names()[-1]\n",
      "<ipython-input-39-77948bcc5f45>:10: DeprecationWarning: Call to deprecated function get_sheet_by_name (Use wb[sheetname]).\n",
      "  last_sheet = book.get_sheet_by_name(last_sheet_name)\n",
      "<ipython-input-39-77948bcc5f45>:11: DeprecationWarning: Call to deprecated function remove_sheet (Use wb.remove(worksheet) or del wb[sheetname]).\n",
      "  book.remove_sheet(last_sheet)\n",
      "C:\\Users\\97250\\anaconda3\\Lib\\site-packages\\openpyxl\\workbook\\child.py:99: UserWarning: Title is more than 31 characters. Some applications may not be able to read the file\n",
      "  warnings.warn(\"Title is more than 31 characters. Some applications may not be able to read the file\")\n"
     ]
    }
   ],
   "source": [
    "# Saving datas to ExcelSheet\n",
    "\n",
    "path = r'C:\\Users\\97250\\Desktop\\studied\\R ,python\\InstaScraping2.xlsx'       \n",
    "book = load_workbook(path)\n",
    "\n",
    "### checks if no sheet from today\n",
    "last_sheet_name = book.get_sheet_names()[-1]\n",
    "\n",
    "if last_sheet_name == str(today) :\n",
    "    last_sheet = book.get_sheet_by_name(last_sheet_name)\n",
    "    book.remove_sheet(last_sheet)\n",
    "\n",
    "writer = pd.ExcelWriter(path, engine = 'openpyxl')\n",
    "writer.book = book    \n",
    "\n",
    "#the sheet name will be the str(current date)\n",
    "dataWorkFlow.to_excel(writer ,sheet_name = day(last_sheet_name)) \n",
    "\n",
    "writer.save()\n",
    "writer.close()"
   ]
  },
  {
   "cell_type": "markdown",
   "metadata": {},
   "source": [
    "###  Save to SQL "
   ]
  },
  {
   "cell_type": "code",
   "execution_count": 55,
   "metadata": {},
   "outputs": [],
   "source": [
    "dataWorkFlow['date'] = str(today)\n",
    "\n",
    "dataWorkFlow = dataWorkFlow.reset_index().values.tolist()"
   ]
  },
  {
   "cell_type": "code",
   "execution_count": 58,
   "metadata": {},
   "outputs": [],
   "source": [
    "# connecting to the database  \n",
    "connection = sqlite3.connect(\"Scrpaer.db\") \n",
    "# cursor  \n",
    "crsr = connection.cursor() \n",
    "\n",
    "sql = \"INSERT INTO Instagram VALUES (?, ?, ?, ?, ?)\"\n",
    "connection.executemany(sql, dataWorkFlow) \n",
    "\n",
    "###  Fetch Data\n",
    "crsr.execute(\"SELECT * FROM instagram\")  \n",
    "\n",
    "# store all the fetched data in 'ans' variable \n",
    "fetched = crsr.fetchall()   \n",
    "pd.DataFrame(fetched,columns=['person','following','followers','numPosts','date']).set_index('person')\n",
    "\n",
    "connection.commit() \n",
    "connection.close() "
   ]
  },
  {
   "cell_type": "code",
   "execution_count": 62,
   "metadata": {},
   "outputs": [
    {
     "data": {
      "text/plain": [
       "[('justinbieber', '515', '154000000', '5938', '2020-12-25'),\n",
       " ('katyperry', '637', '109000000', '1701', '2020-12-25'),\n",
       " ('realdonaldtrump', '8', '24500000', '6061', '2020-12-25'),\n",
       " ('b.netanyahu', '10', '900000', '4119', '2020-12-25'),\n",
       " ('melaniekroll', '189', '221000', '616', '2020-12-25'),\n",
       " ('leelevi', '2509', '146000', '2609', '2020-12-25'),\n",
       " ('margauxdietz', '2725', '401000', '3180', '2020-12-25'),\n",
       " ('hollyjboo', '1010', '51500', '1142', '2020-12-25'),\n",
       " ('neleburgemstr', '2737', '36600', '452', '2020-12-25')]"
      ]
     },
     "execution_count": 62,
     "metadata": {},
     "output_type": "execute_result"
    }
   ],
   "source": [
    "fetched[-9:]"
   ]
  }
 ],
 "metadata": {
  "kernelspec": {
   "display_name": "Python 3",
   "language": "python",
   "name": "python3"
  },
  "language_info": {
   "codemirror_mode": {
    "name": "ipython",
    "version": 3
   },
   "file_extension": ".py",
   "mimetype": "text/x-python",
   "name": "python",
   "nbconvert_exporter": "python",
   "pygments_lexer": "ipython3",
   "version": "3.8.3"
  }
 },
 "nbformat": 4,
 "nbformat_minor": 4
}
