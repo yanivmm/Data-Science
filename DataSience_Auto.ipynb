{
 "cells": [
  {
   "cell_type": "code",
   "execution_count": 1,
   "metadata": {},
   "outputs": [],
   "source": [
    "path = r'C:\\Users\\97250\\Desktop\\studied\\R ,python\\Datasets Kaggle\\MAFTA\\MAFAT RADAR Auxiliary Background Set V1.csv'"
   ]
  },
  {
   "cell_type": "code",
   "execution_count": 2,
   "metadata": {},
   "outputs": [],
   "source": [
    "import numpy as np\n",
    "import pandas as pd\n",
    "import matplotlib.pyplot as plt\n",
    "import seaborn as sns\n",
    "sns.set_style('darkgrid')"
   ]
  },
  {
   "cell_type": "code",
   "execution_count": 24,
   "metadata": {},
   "outputs": [],
   "source": [
    "data = pd.read_csv(path)"
   ]
  },
  {
   "cell_type": "code",
   "execution_count": 8,
   "metadata": {
    "collapsed": true,
    "jupyter": {
     "outputs_hidden": true
    }
   },
   "outputs": [
    {
     "ename": "NameError",
     "evalue": "name 'data' is not defined",
     "output_type": "error",
     "traceback": [
      "\u001b[1;31m---------------------------------------------------------------------------\u001b[0m",
      "\u001b[1;31mNameError\u001b[0m                                 Traceback (most recent call last)",
      "\u001b[1;32m<ipython-input-8-c3d483a1c074>\u001b[0m in \u001b[0;36m<module>\u001b[1;34m\u001b[0m\n\u001b[1;32m----> 1\u001b[1;33m \u001b[0mdata\u001b[0m\u001b[1;33m.\u001b[0m\u001b[0mcolumns\u001b[0m\u001b[1;33m\u001b[0m\u001b[1;33m\u001b[0m\u001b[0m\n\u001b[0m",
      "\u001b[1;31mNameError\u001b[0m: name 'data' is not defined"
     ]
    }
   ],
   "source": [
    "data.columns"
   ]
  },
  {
   "cell_type": "code",
   "execution_count": null,
   "metadata": {},
   "outputs": [],
   "source": [
    "outcome = ['','','','']  #  Needed data\n",
    "color = ['black','red','green','gold']"
   ]
  },
  {
   "cell_type": "code",
   "execution_count": 7,
   "metadata": {},
   "outputs": [],
   "source": [
    "def findRelevantDataColumns():\n",
    "    \n",
    "    time = []\n",
    "    rel  = []\n",
    "    unrel= []\n",
    "    cont = []\n",
    "    \n",
    "    for i in data.columns:\n",
    "        \n",
    "        if type(data[i][0]) == str:\n",
    "        \n",
    "            if ''.join(i).lower() in \"month dat dayinmonth dayinweek year date exactdate\".split() :\n",
    "                time.append(i)\n",
    "            elif len(data[i].value_counts()) <30:\n",
    "                rel.append(i)\n",
    "            else:\n",
    "                unrel.append(i)\n",
    "        \n",
    "        else:\n",
    "            cont.append(i)\n",
    "    \n",
    "    if len(data.columns) < 25:\n",
    "        print(time,rel,unrel,cont,sep = '\\n')\n",
    "        return time,rel,unrel,cont"
   ]
  },
  {
   "cell_type": "code",
   "execution_count": 35,
   "metadata": {},
   "outputs": [],
   "source": [
    "def show(data,kind ='bar',size = 'm',title='',save=False):\n",
    "    \n",
    "    dic = {'l':(16,12),'m':(12,8),'s':(8,6)}    \n",
    "    scale = dic[size]\n",
    "    \n",
    "    if kind=='bar':\n",
    "        data.plot(kind = 'bar',color = 'gold',figsize = scale,fontsize = scale[0]+4)\n",
    "    elif kind=='line':\n",
    "        data.plot(kind = 'line', lw = (scale[0]//4),figsize = scale,fontsize = scale[0]+4)\n",
    "    elif kind=='time':\n",
    "        data.sort_index().plot(kind = 'line',color = color[0], lw = (scale[0]//4),figsize = scale,fontsize = scale[0]+4)\n",
    "    elif kind=='heat':\n",
    "        plt.figure(figsize = scale)\n",
    "        sns.heatmap(data = data ,lw=1 ,linecolor = 'white',cmap = 'Reds', annot = True)\n",
    "   \n",
    "    # do anyway\n",
    "    sns.set(context='notebook', style='darkgrid', palette='deep', font='sans-serif', font_scale=1.8, color_codes=True, rc=None)\n",
    "    plt.title(\"\\n \" + title + \" \\n\",fontsize = 2*scale[0])\n",
    "    plt.legend(loc='upper right',prop={'size':1.2*scale[0]}) \n",
    "    if save:\n",
    "        plt.savefig(r'C:\\Users\\97250\\Desktop\\studied\\R ,python\\Datasets Kaggle\\Outputs data\\globalTerrorism\\'' + title + '.png')"
   ]
  },
  {
   "cell_type": "code",
   "execution_count": 36,
   "metadata": {},
   "outputs": [],
   "source": [
    "#most common publishers\n",
    "\n",
    "def toppers(agg,colum,outcome,top=10):\n",
    "    \n",
    "    \"\"\"\n",
    "    This func return data for top parameter.\n",
    "    \"\"\"\n",
    "    #toppers\n",
    "    toppers = agg[outcome].sort_values(ascending=False)[:top].index\n",
    "    \n",
    "    #grab aggregated data that is in these toppers\n",
    "    agg = agg.reset_index()\n",
    "    dataOfToppers = agg[agg[colum].isin(toppers)]    \n",
    "    # just some tecnique in order to present the name of toppers in graph\n",
    "    dataOfToppers = dataOfToppers[[colum,outcome]].set_index(colum).sort_values(ascending = False,by = outcome)\n",
    "    \n",
    "    return dataOfToppers"
   ]
  },
  {
   "cell_type": "code",
   "execution_count": null,
   "metadata": {},
   "outputs": [],
   "source": [
    "def agg(colum ,k='sum',i=0):\n",
    "    \n",
    "    agg = data.groupby(colum)\n",
    "   \n",
    "    # These function change due to the data kind I work with.\n",
    "    agg = agg.sum() if k=='sum' else agg.mean() if k=='mean' else agg.count() if k=='count' else agg.var()\n",
    "    \n",
    "    return agg"
   ]
  },
  {
   "cell_type": "code",
   "execution_count": 2,
   "metadata": {},
   "outputs": [
    {
     "ename": "NameError",
     "evalue": "name 'data' is not defined",
     "output_type": "error",
     "traceback": [
      "\u001b[1;31m---------------------------------------------------------------------------\u001b[0m",
      "\u001b[1;31mNameError\u001b[0m                                 Traceback (most recent call last)",
      "\u001b[1;32m<ipython-input-2-bfca8cbe6d06>\u001b[0m in \u001b[0;36m<module>\u001b[1;34m\u001b[0m\n\u001b[1;32m----> 1\u001b[1;33m \u001b[1;32mdef\u001b[0m \u001b[0maggPlot\u001b[0m\u001b[1;33m(\u001b[0m\u001b[0mcolum\u001b[0m \u001b[1;33m,\u001b[0m \u001b[0mi\u001b[0m \u001b[1;33m=\u001b[0m\u001b[1;36m0\u001b[0m \u001b[1;33m,\u001b[0m\u001b[0mk\u001b[0m \u001b[1;33m=\u001b[0m\u001b[1;34m'sum'\u001b[0m\u001b[1;33m,\u001b[0m\u001b[0msize\u001b[0m \u001b[1;33m=\u001b[0m \u001b[1;34m'm'\u001b[0m\u001b[1;33m,\u001b[0m \u001b[0mtitle\u001b[0m\u001b[1;33m=\u001b[0m\u001b[1;34m''\u001b[0m \u001b[1;33m,\u001b[0m\u001b[0mtop\u001b[0m\u001b[1;33m=\u001b[0m\u001b[1;36m10\u001b[0m\u001b[1;33m,\u001b[0m\u001b[0msave\u001b[0m\u001b[1;33m=\u001b[0m\u001b[1;32mFalse\u001b[0m\u001b[1;33m,\u001b[0m\u001b[0mdata\u001b[0m\u001b[1;33m=\u001b[0m\u001b[0mdata\u001b[0m\u001b[1;33m)\u001b[0m\u001b[1;33m:\u001b[0m\u001b[1;33m\u001b[0m\u001b[1;33m\u001b[0m\u001b[0m\n\u001b[0m\u001b[0;32m      2\u001b[0m \u001b[1;33m\u001b[0m\u001b[0m\n\u001b[0;32m      3\u001b[0m     \"\"\"\n\u001b[0;32m      4\u001b[0m     \u001b[0mAggregation\u001b[0m \u001b[0mannd\u001b[0m \u001b[0mplot\u001b[0m \u001b[0mfunction\u001b[0m\u001b[1;33m.\u001b[0m\u001b[1;33m\u001b[0m\u001b[1;33m\u001b[0m\u001b[0m\n\u001b[0;32m      5\u001b[0m \u001b[1;33m\u001b[0m\u001b[0m\n",
      "\u001b[1;31mNameError\u001b[0m: name 'data' is not defined"
     ]
    }
   ],
   "source": [
    "def aggPlot(colum , i =0 ,k ='sum',size = 'm', title='' ,top=10,save=False,data=data):\n",
    "    \n",
    "    \"\"\"\n",
    "    Aggregation annd plot function.\n",
    "    \n",
    "    Input:\n",
    "        Colum: string or list of strings.- columns to aggregate with.\n",
    "        i: int, kind of column to agg' on from list 'outcome'.\n",
    "        k: string,  sum/mean else-count.\n",
    "        size: char['s','m','l']  -scale of output\n",
    "        title: string -title to print\n",
    "        save: bool - wether to save picture\n",
    "        \n",
    "    Return:\n",
    "        DataFrame's aggregated column(c).\n",
    "    \"\"\"\n",
    "    \n",
    "    c = outcome[i]\n",
    "    title =  k.capitalize() +' of '+ title\n",
    "    timeExpresion = ['year','date']\n",
    "    \n",
    "    agg = agg(colum=colum,k=k,i=i)\n",
    "    \n",
    "    #visuallize \n",
    "    \n",
    "    if ''.join(colum).lower() in timeExpresion:       \n",
    "        return show(data = agg[c] ,kind ='time' ,size = size, title = title)\n",
    "    \n",
    "    # if tow columns given - most likely this accurs:\n",
    "    elif len(agg[c].value_counts()) > 50:  #too many categories\n",
    "        agg = toppers(agg = agg ,colum=colum , top=top ,outcome = c)\n",
    "        return show(data = agg  ,kind ='bar' ,size = size, title=title+' per '+str(top)+' top '+colum )\n",
    "        \n",
    "    elif type(colum) != list: # if one column has been given\n",
    "        agg = agg[c].sort_values(ascending=False)\n",
    "        return show(data = agg ,kind ='bar' ,size = size, title= title )\n",
    "    \n",
    "    else: # tow dimentional data or more.\n",
    "        x = input('Sir, to unstack?  (y/n)')\n",
    "        \n",
    "        if x == 'y':\n",
    "            agg =agg[c].unstack(0)\n",
    "            return show(data=agg,kind='heat',size = size, title = title )\n",
    "        \n",
    "        elif x =='n': \n",
    "            agg = toppers(agg = agg, colum = colum, outcome = c, top=top)\n",
    "            return show(data=agg,kind='bar',size = size, title = title )\n",
    "                ## additional option:dataframe: agg[[c]].sort_values(ascending = False,by = c\n",
    " "
   ]
  },
  {
   "cell_type": "code",
   "execution_count": 1,
   "metadata": {},
   "outputs": [
    {
     "ename": "NameError",
     "evalue": "name 'data' is not defined",
     "output_type": "error",
     "traceback": [
      "\u001b[1;31m---------------------------------------------------------------------------\u001b[0m",
      "\u001b[1;31mNameError\u001b[0m                                 Traceback (most recent call last)",
      "\u001b[1;32m<ipython-input-1-88aecf31b0a6>\u001b[0m in \u001b[0;36m<module>\u001b[1;34m\u001b[0m\n\u001b[1;32m----> 1\u001b[1;33m \u001b[1;32mdef\u001b[0m \u001b[0maggPlot\u001b[0m\u001b[1;33m(\u001b[0m\u001b[0mcolum\u001b[0m \u001b[1;33m,\u001b[0m \u001b[0mi\u001b[0m \u001b[1;33m=\u001b[0m\u001b[1;36m0\u001b[0m \u001b[1;33m,\u001b[0m\u001b[0mk\u001b[0m \u001b[1;33m=\u001b[0m\u001b[1;34m'sum'\u001b[0m\u001b[1;33m,\u001b[0m\u001b[0msize\u001b[0m \u001b[1;33m=\u001b[0m \u001b[1;34m'm'\u001b[0m\u001b[1;33m,\u001b[0m \u001b[0mtitle\u001b[0m\u001b[1;33m=\u001b[0m\u001b[1;34m''\u001b[0m \u001b[1;33m,\u001b[0m\u001b[0mtop\u001b[0m\u001b[1;33m=\u001b[0m\u001b[1;36m10\u001b[0m\u001b[1;33m,\u001b[0m\u001b[0msave\u001b[0m\u001b[1;33m=\u001b[0m\u001b[1;32mFalse\u001b[0m\u001b[1;33m,\u001b[0m\u001b[0mdata\u001b[0m\u001b[1;33m=\u001b[0m\u001b[0mdata\u001b[0m\u001b[1;33m)\u001b[0m\u001b[1;33m:\u001b[0m\u001b[1;33m\u001b[0m\u001b[1;33m\u001b[0m\u001b[0m\n\u001b[0m\u001b[0;32m      2\u001b[0m \u001b[1;33m\u001b[0m\u001b[0m\n\u001b[0;32m      3\u001b[0m     \"\"\"\n\u001b[0;32m      4\u001b[0m     \u001b[0mAggregation\u001b[0m \u001b[0mannd\u001b[0m \u001b[0mplot\u001b[0m \u001b[0mfunction\u001b[0m\u001b[1;33m.\u001b[0m\u001b[1;33m\u001b[0m\u001b[1;33m\u001b[0m\u001b[0m\n\u001b[0;32m      5\u001b[0m \u001b[1;33m\u001b[0m\u001b[0m\n",
      "\u001b[1;31mNameError\u001b[0m: name 'data' is not defined"
     ]
    }
   ],
   "source": [
    "def aggPlot(colum , i =0 ,k ='sum',size = 'm', title='' ,top=10,save=False,data=data):\n",
    "    \n",
    "    \"\"\"\n",
    "    Aggregation annd plot function.\n",
    "    \n",
    "    Input:\n",
    "        Colum: string or list of strings.- columns to aggregate with.\n",
    "        i: int, kind of column to agg' on from list 'outcome'.\n",
    "        k: string,  sum/mean else-count.\n",
    "        size: char['s','m','l']  -scale of output\n",
    "        title: string -title to print\n",
    "        save: bool - wether to save picture\n",
    "        \n",
    "    Return:\n",
    "        DataFrame's aggregated column(c).\n",
    "    \"\"\"\n",
    "    \n",
    "    c = outcome[i]\n",
    "    title =  k.capitalize() +' of '+ title\n",
    "    timeExpresion = ['year','date']\n",
    "    \n",
    "    agg = agg(colum=colum,k=k,i=i)\n",
    "    \n",
    "    #visuallize \n",
    "    \n",
    "    if type(colum) == list:\n",
    "        \n",
    "        if len(colum)==2:\n",
    "\n",
    "            for i in colum.lower():\n",
    "                if i in timeExpresion:       \n",
    "                    return show(data = agg[c] ,kind ='time' ,size = size, title = title)\n",
    "\n",
    "            #else\n",
    "            agg = agg[c].unstack(0)\n",
    "            return show(data=agg,kind='heat',size = size, title = title )\n",
    "    \n",
    "        else:\n",
    "            #ordinary form\n",
    "            agg[[c]].sort_values(ascending = False,by = c)\n",
    "    \n",
    "    else:    #one agg column\n",
    "        \n",
    "        if colum.lower() in timeExpresion:       \n",
    "            return show(data = agg[c] ,kind ='time' ,size = size, title = title)\n",
    "            \n",
    "        else: \n",
    "            return show(data = agg[c] ,kind='bar',size = size, title = title )"
   ]
  },
  {
   "cell_type": "code",
   "execution_count": null,
   "metadata": {},
   "outputs": [],
   "source": []
  }
 ],
 "metadata": {
  "kernelspec": {
   "display_name": "Python 3",
   "language": "python",
   "name": "python3"
  },
  "language_info": {
   "codemirror_mode": {
    "name": "ipython",
    "version": 3
   },
   "file_extension": ".py",
   "mimetype": "text/x-python",
   "name": "python",
   "nbconvert_exporter": "python",
   "pygments_lexer": "ipython3",
   "version": "3.8.3"
  }
 },
 "nbformat": 4,
 "nbformat_minor": 4
}
