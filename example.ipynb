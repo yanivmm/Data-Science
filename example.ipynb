{
 "cells": [
  {
   "cell_type": "code",
   "execution_count": 1,
   "id": "f4fab1d3",
   "metadata": {},
   "outputs": [
    {
     "name": "stderr",
     "output_type": "stream",
     "text": [
      "Matplotlib is building the font cache; this may take a moment.\n"
     ]
    },
    {
     "data": {
      "application/vnd.jupyter.widget-view+json": {
       "model_id": "40fddc68f7d94bee9f63033d39abd0c9",
       "version_major": 2,
       "version_minor": 0
      },
      "text/plain": [
       "VBox(children=(Dropdown(description='Sample ID:', layout=Layout(width='50%'), options=('00104b76-d512-43d6-b2e…"
      ]
     },
     "metadata": {},
     "output_type": "display_data"
    }
   ],
   "source": [
    "from visualization import signal_viewer\n",
    "from pathlib import Path\n",
    "\n",
    "signal_viewer(\n",
    "    data_dir=Path('data/raw/train'),\n",
    "    labels_csv=Path('data/train.csv')\n",
    ")"
   ]
  },
  {
   "cell_type": "code",
   "execution_count": null,
   "id": "3fe24e5d",
   "metadata": {},
   "outputs": [],
   "source": []
  },
  {
   "cell_type": "code",
   "execution_count": 2,
   "id": "9ab4397c",
   "metadata": {},
   "outputs": [],
   "source": [
    "import pandas as pd\n",
    "labels = pd.read_csv(\"data/manual_annotation/inference_labels.csv\")"
   ]
  },
  {
   "cell_type": "code",
   "execution_count": 3,
   "id": "bef837a3",
   "metadata": {},
   "outputs": [
    {
     "data": {
      "text/html": [
       "<div>\n",
       "<style scoped>\n",
       "    .dataframe tbody tr th:only-of-type {\n",
       "        vertical-align: middle;\n",
       "    }\n",
       "\n",
       "    .dataframe tbody tr th {\n",
       "        vertical-align: top;\n",
       "    }\n",
       "\n",
       "    .dataframe thead th {\n",
       "        text-align: right;\n",
       "    }\n",
       "</style>\n",
       "<table border=\"1\" class=\"dataframe\">\n",
       "  <thead>\n",
       "    <tr style=\"text-align: right;\">\n",
       "      <th></th>\n",
       "      <th>sample_id</th>\n",
       "      <th>label</th>\n",
       "    </tr>\n",
       "  </thead>\n",
       "  <tbody>\n",
       "    <tr>\n",
       "      <th>0</th>\n",
       "      <td>b67dd849-bf1a-4083-a09b-e56eea5b58ca</td>\n",
       "      <td>collision</td>\n",
       "    </tr>\n",
       "    <tr>\n",
       "      <th>1</th>\n",
       "      <td>2fe95d3e-1db2-420e-a9b6-880a3e76251c</td>\n",
       "      <td>collision</td>\n",
       "    </tr>\n",
       "    <tr>\n",
       "      <th>2</th>\n",
       "      <td>3b0de448-dd4c-4300-949c-1d58b8f32795</td>\n",
       "      <td>collision</td>\n",
       "    </tr>\n",
       "    <tr>\n",
       "      <th>3</th>\n",
       "      <td>e38b956f-e34f-4527-8cd7-8890fd0b2b76</td>\n",
       "      <td>collision</td>\n",
       "    </tr>\n",
       "    <tr>\n",
       "      <th>4</th>\n",
       "      <td>284498b7-94bd-42fe-9e57-814554fab41f</td>\n",
       "      <td>collision</td>\n",
       "    </tr>\n",
       "    <tr>\n",
       "      <th>...</th>\n",
       "      <td>...</td>\n",
       "      <td>...</td>\n",
       "    </tr>\n",
       "    <tr>\n",
       "      <th>468</th>\n",
       "      <td>ca580e42-0a56-4850-aaa0-74da5e3c8edd</td>\n",
       "      <td>normal</td>\n",
       "    </tr>\n",
       "    <tr>\n",
       "      <th>469</th>\n",
       "      <td>3019f622-c01d-48c8-8bb3-133249ce7f7f</td>\n",
       "      <td>normal</td>\n",
       "    </tr>\n",
       "    <tr>\n",
       "      <th>470</th>\n",
       "      <td>90436476-39d2-4c28-85f8-2459faa89503</td>\n",
       "      <td>normal</td>\n",
       "    </tr>\n",
       "    <tr>\n",
       "      <th>471</th>\n",
       "      <td>f4ad2cc3-9ace-456b-93a2-5db7269199ae</td>\n",
       "      <td>normal</td>\n",
       "    </tr>\n",
       "    <tr>\n",
       "      <th>472</th>\n",
       "      <td>bc59b98e-e3fa-4767-81fa-7a9ba4d8c951</td>\n",
       "      <td>normal</td>\n",
       "    </tr>\n",
       "  </tbody>\n",
       "</table>\n",
       "<p>473 rows × 2 columns</p>\n",
       "</div>"
      ],
      "text/plain": [
       "                                sample_id      label\n",
       "0    b67dd849-bf1a-4083-a09b-e56eea5b58ca  collision\n",
       "1    2fe95d3e-1db2-420e-a9b6-880a3e76251c  collision\n",
       "2    3b0de448-dd4c-4300-949c-1d58b8f32795  collision\n",
       "3    e38b956f-e34f-4527-8cd7-8890fd0b2b76  collision\n",
       "4    284498b7-94bd-42fe-9e57-814554fab41f  collision\n",
       "..                                    ...        ...\n",
       "468  ca580e42-0a56-4850-aaa0-74da5e3c8edd     normal\n",
       "469  3019f622-c01d-48c8-8bb3-133249ce7f7f     normal\n",
       "470  90436476-39d2-4c28-85f8-2459faa89503     normal\n",
       "471  f4ad2cc3-9ace-456b-93a2-5db7269199ae     normal\n",
       "472  bc59b98e-e3fa-4767-81fa-7a9ba4d8c951     normal\n",
       "\n",
       "[473 rows x 2 columns]"
      ]
     },
     "execution_count": 3,
     "metadata": {},
     "output_type": "execute_result"
    }
   ],
   "source": [
    "labels"
   ]
  },
  {
   "cell_type": "code",
   "execution_count": null,
   "id": "d983f1e7",
   "metadata": {},
   "outputs": [],
   "source": [
    "df"
   ]
  },
  {
   "cell_type": "code",
   "execution_count": null,
   "id": "33d262d5",
   "metadata": {},
   "outputs": [],
   "source": []
  },
  {
   "cell_type": "code",
   "execution_count": null,
   "id": "54c40e40",
   "metadata": {},
   "outputs": [],
   "source": []
  },
  {
   "cell_type": "code",
   "execution_count": 1,
   "id": "a6a8b399-50ff-4d60-bf95-c80f0bc887ea",
   "metadata": {},
   "outputs": [],
   "source": [
    "from extract_features import process_dataset, load_and_process_sample\n",
    "from visualization import signal_viewer\n",
    "from imu_pipeline import IMUPipeline\n",
    "from pathlib import Path\n",
    "import pandas as pd\n",
    "import joblib\n",
    "import os"
   ]
  },
  {
   "cell_type": "code",
   "execution_count": null,
   "id": "d8135cd8",
   "metadata": {},
   "outputs": [],
   "source": []
  },
  {
   "cell_type": "code",
   "execution_count": 3,
   "id": "f7165b8b-235f-4a05-85ad-038a4f3784ae",
   "metadata": {},
   "outputs": [
    {
     "data": {
      "application/vnd.jupyter.widget-view+json": {
       "model_id": "b56ac280247c45c7a513a628478227cb",
       "version_major": 2,
       "version_minor": 0
      },
      "text/plain": [
       "VBox(children=(Dropdown(description='Sample ID:', layout=Layout(width='50%'), options=('00104b76-d512-43d6-b2e…"
      ]
     },
     "metadata": {},
     "output_type": "display_data"
    }
   ],
   "source": [
    "signal_viewer(\n",
    "    data_dir=Path('data/raw/train'),\n",
    "    labels_csv=Path('data/train.csv')\n",
    ")"
   ]
  },
  {
   "cell_type": "markdown",
   "id": "0319cf27-f9e4-470b-9218-8b5bd4f9d0b9",
   "metadata": {},
   "source": [
    "# ❓ Questions to Reflect On\n",
    "\n",
    "\n",
    "- What do you observe when comparing the model’s predictions on the new data to its known performance?\n",
    "\n",
    "- Is there anything in the data that might explain differences in behavior?\n",
    "\n",
    "- Can you identify patterns or trends related to when the model succeeds or fails?\n",
    "\n",
    "- Are there signals or features that seem to affect the model’s reliability?\n",
    "\n",
    "- What could be done in the short term to handle the current situation?\n",
    "\n",
    "- What are potential long-term steps to improve model performance in similar scenarios?\n",
    "\n",
    "- What would you want to explore further if given more time or data?\n",
    "\n",
    "- What assumptions did the model rely on during training — and are they still valid?"
   ]
  }
 ],
 "metadata": {
  "kernelspec": {
   "display_name": "Python 3",
   "language": "python",
   "name": "python3"
  },
  "language_info": {
   "codemirror_mode": {
    "name": "ipython",
    "version": 3
   },
   "file_extension": ".py",
   "mimetype": "text/x-python",
   "name": "python",
   "nbconvert_exporter": "python",
   "pygments_lexer": "ipython3",
   "version": "3.11.0"
  }
 },
 "nbformat": 4,
 "nbformat_minor": 5
}
